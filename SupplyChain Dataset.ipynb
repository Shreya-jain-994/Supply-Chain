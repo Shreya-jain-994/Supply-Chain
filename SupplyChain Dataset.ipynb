{
 "cells": [
  {
   "cell_type": "markdown",
   "id": "a38a7eb2",
   "metadata": {},
   "source": [
    "# Supply Chain Dataset"
   ]
  },
  {
   "cell_type": "code",
   "execution_count": null,
   "id": "1eb11321",
   "metadata": {},
   "outputs": [],
   "source": [
    "# Import Necessary libraries\n",
    "\n",
    "import pandas as pd\n",
    "import numpy as np\n",
    "import matplotlib.pyplot as plt\n",
    "import seaborn as sns\n",
    "\n",
    "import warnings\n",
    "warnings.filterwarnings('ignore')"
   ]
  },
  {
   "cell_type": "code",
   "execution_count": null,
   "id": "53ef074e",
   "metadata": {},
   "outputs": [],
   "source": [
    "# Loaddatset and convert into dataframe\n",
    "data = pd.read_csv(\"DataCoSupplyChainDataset.csv\", encoding ='latin-1')\n",
    "# Looking first 5 rows\n",
    "data.head(5)"
   ]
  },
  {
   "cell_type": "code",
   "execution_count": null,
   "id": "251e9a38",
   "metadata": {},
   "outputs": [],
   "source": [
    "# display maximum rows\n",
    "pd.set_option(\"display.max.rows\", None)"
   ]
  },
  {
   "cell_type": "code",
   "execution_count": null,
   "id": "ad6b9a24",
   "metadata": {},
   "outputs": [],
   "source": [
    "# Checking columns names\n",
    "\n",
    "data.columns"
   ]
  },
  {
   "cell_type": "code",
   "execution_count": null,
   "id": "89b63723",
   "metadata": {},
   "outputs": [],
   "source": [
    "# Checking shape of dataset\n",
    "\n",
    "data.shape"
   ]
  },
  {
   "cell_type": "code",
   "execution_count": null,
   "id": "60ea4993",
   "metadata": {},
   "outputs": [],
   "source": [
    "# Dataset have 180519 rows and 53 columns"
   ]
  },
  {
   "cell_type": "code",
   "execution_count": null,
   "id": "8ee894d5",
   "metadata": {},
   "outputs": [],
   "source": [
    "# Checking datatype of each attribute\n",
    "\n",
    "data.dtypes"
   ]
  },
  {
   "cell_type": "code",
   "execution_count": null,
   "id": "7796424a",
   "metadata": {},
   "outputs": [],
   "source": [
    "# Identifing the type of Problem- Output: Shipping Mode is object data so we use classification models\n"
   ]
  },
  {
   "cell_type": "code",
   "execution_count": null,
   "id": "a721b6f3",
   "metadata": {},
   "outputs": [],
   "source": [
    "# Removing duplicate value in our dastaset\n",
    "data.drop_duplicates(inplace =True)"
   ]
  },
  {
   "cell_type": "code",
   "execution_count": null,
   "id": "48e03ad0",
   "metadata": {},
   "outputs": [],
   "source": [
    "# Checking dataset shape\n",
    "data.shape"
   ]
  },
  {
   "cell_type": "code",
   "execution_count": null,
   "id": "205434b1",
   "metadata": {},
   "outputs": [],
   "source": [
    "# Datset have no duplacete values"
   ]
  },
  {
   "cell_type": "code",
   "execution_count": null,
   "id": "882fc162",
   "metadata": {},
   "outputs": [],
   "source": [
    "# Checking null values of each attributes\n",
    "\n",
    "data.info()"
   ]
  },
  {
   "cell_type": "code",
   "execution_count": null,
   "id": "b8efd061",
   "metadata": {},
   "outputs": [],
   "source": [
    "# null value present on these Customer Lname,Customer Zipcode,Order Zipcode,Product Description columns"
   ]
  },
  {
   "cell_type": "code",
   "execution_count": null,
   "id": "27ae6059",
   "metadata": {},
   "outputs": [],
   "source": [
    "# Checking missing value of each attribute\n",
    "\n",
    "data.isna().sum()"
   ]
  },
  {
   "cell_type": "code",
   "execution_count": null,
   "id": "f3053f87",
   "metadata": {},
   "outputs": [],
   "source": [
    "#Missing value present in Customer Lname,Customer Zipcode, Order Zipcode & Product Description"
   ]
  },
  {
   "cell_type": "code",
   "execution_count": null,
   "id": "187c9dc6",
   "metadata": {},
   "outputs": [],
   "source": [
    "drop_columns =  ['Category Id','Customer City','Customer Country',\n",
    "             'Customer Email','Customer Fname','Customer Id',\n",
    "             'Customer Lname','Customer Password','Customer State',\n",
    "             'Customer Street','Customer Zipcode','Department Id',\n",
    "             'Order City','Order Country','Order Customer Id','order date (DateOrders)',\n",
    "             'Order Id','Order Item Cardprod Id','Order Item Product Price','Order Item Total',\n",
    "             'Order Profit Per Order','Order Region','Order State','Order Status',\n",
    "             'Order Zipcode','Product Card Id','Product Category Id','Product Description',\n",
    "             'Product Image','Product Name','Product Price','Product Status','shipping date (DateOrders)',\n",
    "             'Order Item Id']"
   ]
  },
  {
   "cell_type": "code",
   "execution_count": null,
   "id": "901767eb",
   "metadata": {},
   "outputs": [],
   "source": [
    "Sales_data = data.drop(drop_columns,axis=1)"
   ]
  },
  {
   "cell_type": "code",
   "execution_count": null,
   "id": "a8e235d3",
   "metadata": {},
   "outputs": [],
   "source": [
    "# Checking dataset shape\n",
    "Sales_data.shape"
   ]
  },
  {
   "cell_type": "markdown",
   "id": "8ebe0f48",
   "metadata": {},
   "source": [
    "## Handling Numerical Variables"
   ]
  },
  {
   "cell_type": "code",
   "execution_count": null,
   "id": "7f5fee72",
   "metadata": {},
   "outputs": [],
   "source": [
    "Sales_numerical = Sales_data.select_dtypes(['int','float'])\n",
    "Sales_numerical"
   ]
  },
  {
   "cell_type": "code",
   "execution_count": null,
   "id": "91a05dc5",
   "metadata": {},
   "outputs": [],
   "source": [
    "Sales_numerical = Sales_data.select_dtypes(['int','float'])\n",
    "Sales_numerical"
   ]
  },
  {
   "cell_type": "code",
   "execution_count": null,
   "id": "f79da745",
   "metadata": {},
   "outputs": [],
   "source": [
    "Sales_corr = Sales_numerical.corr().applymap(lambda x:round(x,3))\n",
    "Sales_corr"
   ]
  },
  {
   "cell_type": "code",
   "execution_count": null,
   "id": "d3e5626b",
   "metadata": {},
   "outputs": [],
   "source": [
    "plt.figure(figsize=(10,10))\n",
    "ax = sns.heatmap(Sales_corr,annot=True,cmap='mako_r',)\n",
    "plt.show()\n",
    "fig = ax.get_figure()\n",
    "#fig.savefig('corr.png')"
   ]
  },
  {
   "cell_type": "code",
   "execution_count": null,
   "id": "569517e9",
   "metadata": {},
   "outputs": [],
   "source": [
    "drop_cols = ['Benefit per order','Sales per customer']\n",
    "Sales_numerical.drop(drop_cols,axis=1,inplace=True)\n",
    "Sales_data.drop(drop_cols,axis=1,inplace=True)"
   ]
  },
  {
   "cell_type": "code",
   "execution_count": null,
   "id": "ee8c84e4",
   "metadata": {},
   "outputs": [],
   "source": [
    "plt.figure(figsize=(9,9))\n",
    "    sns.kdeplot(data=Sales_data,x='Sales',hue='Shipping Mode',palette='CMRmap')"
   ]
  },
  {
   "cell_type": "code",
   "execution_count": null,
   "id": "ca25c6d4",
   "metadata": {},
   "outputs": [],
   "source": [
    "Sales_numerical.drop(['Days for shipping (real)'],axis=1,inplace=True)"
   ]
  },
  {
   "cell_type": "code",
   "execution_count": null,
   "id": "b9f509fa",
   "metadata": {},
   "outputs": [],
   "source": [
    "from sklearn.preprocessing import MinMaxScaler\n",
    "mn = MinMaxScaler()\n",
    "mn.fit(Sales_numerical)\n",
    "Sales_numerical_ = mn.transform(Sales_numerical)"
   ]
  },
  {
   "cell_type": "code",
   "execution_count": null,
   "id": "1e88d980",
   "metadata": {},
   "outputs": [],
   "source": [
    "Sales_numerical.loc[1,:].values.reshape(1,-1)"
   ]
  },
  {
   "cell_type": "code",
   "execution_count": null,
   "id": "b9625ec8",
   "metadata": {},
   "outputs": [],
   "source": [
    "Sales_numerical_ = pd.DataFrame(Sales_numerical_,columns=Sales_numerical.columns)\n",
    "Sales_numerical_\n",
    "\n",
    "Sales_data = Sales_data.loc[:,~Sales_data.columns.isin(Sales_numerical_.columns.to_list())] \n",
    "Sales_data = pd.concat([Sales_data,Sales_numerical_],axis=1)\n",
    "Sales_data"
   ]
  },
  {
   "cell_type": "code",
   "execution_count": null,
   "id": "133dd804",
   "metadata": {},
   "outputs": [],
   "source": [
    "# Handling Categorical variables"
   ]
  },
  {
   "cell_type": "code",
   "execution_count": null,
   "id": "563b2e71",
   "metadata": {},
   "outputs": [],
   "source": [
    "Sales_categorical = Sales_data.select_dtypes('object')\n",
    "Sales_categorical"
   ]
  },
  {
   "cell_type": "code",
   "execution_count": null,
   "id": "eb2d6ddf",
   "metadata": {},
   "outputs": [],
   "source": [
    "Sales_df['Category Name'].value_counts(normalize=True).sort_values(ascending=False)"
   ]
  },
  {
   "cell_type": "code",
   "execution_count": null,
   "id": "7d465e56",
   "metadata": {},
   "outputs": [],
   "source": [
    "#Removing the delivery status column as it contains information regarding late on time or another aspects"
   ]
  },
  {
   "cell_type": "code",
   "execution_count": null,
   "id": "e5286cfb",
   "metadata": {},
   "outputs": [],
   "source": [
    "Sales_categorical.drop('Delivery Status',inplace=True,axis=1)\n"
   ]
  },
  {
   "cell_type": "code",
   "execution_count": null,
   "id": "945748f7",
   "metadata": {},
   "outputs": [],
   "source": [
    "new_df = pd.get_dummies(Sales_categorical['Customer Segment'],drop_first=True)\n",
    "new_df2 = pd.get_dummies(Sales_categorical['Market'],drop_first=True)\n",
    "new_df3 = pd.get_dummies(Sales_df['Type'],drop_first=True)\n",
    "\n",
    "Sales_categorical = pd.concat([Sales_categorical,new_df,new_df2,new_df3],axis=1)\n",
    "Sales_categorical.drop(['Customer Segment','Market','Type'],axis=1,inplace=True)\n",
    "Sales_categorical"
   ]
  },
  {
   "cell_type": "code",
   "execution_count": null,
   "id": "adcf1101",
   "metadata": {},
   "outputs": [],
   "source": [
    "Sales_categorical['Category Name'].value_counts(normalize=True)"
   ]
  },
  {
   "cell_type": "code",
   "execution_count": null,
   "id": "f7e841b9",
   "metadata": {},
   "outputs": [],
   "source": [
    "filt = np.isin(Sales_categorical['Department Name'],Sales_categorical['Department Name'].value_counts(normalize=True).tail(6).index)\n",
    "Sales_categorical.drop(Sales_categorical[filt].index,axis=0,inplace=True)"
   ]
  },
  {
   "cell_type": "code",
   "execution_count": null,
   "id": "81c83ba5",
   "metadata": {},
   "outputs": [],
   "source": [
    "filt = np.isin(Sales_categorical['Category Name'],Sales_categorical['Category Name'].value_counts(normalize=True).tail(3).index)\n",
    "Sales_categorical.drop(Sales_categorical[filt].index,axis=0,inplace=True)"
   ]
  },
  {
   "cell_type": "code",
   "execution_count": null,
   "id": "fc33f492",
   "metadata": {},
   "outputs": [],
   "source": [
    "new_df4 = pd.get_dummies(Sales_categorical['Department Name'],drop_first=True)\n",
    "new_df5 = pd.get_dummies(Sales_categorical['Category Name'],drop_first=True)\n",
    "\n",
    "Sales_categorical = pd.concat([Sales_categorical,new_df4,new_df5],axis=1)"
   ]
  },
  {
   "cell_type": "code",
   "execution_count": null,
   "id": "d86f63a0",
   "metadata": {},
   "outputs": [],
   "source": [
    "Sales_categorical.drop(['Category Name','Department Name'],axis=1,inplace=True)\n",
    "Sales_categorical.head(3)"
   ]
  },
  {
   "cell_type": "code",
   "execution_count": null,
   "id": "f08d9928",
   "metadata": {},
   "outputs": [],
   "source": [
    "Sales_data.drop(['Type','Category Name','Customer Segment','Department Name','Market','Shipping Mode','Delivery Status'],axis=1,inplace=True)"
   ]
  },
  {
   "cell_type": "code",
   "execution_count": null,
   "id": "bdb15a84",
   "metadata": {},
   "outputs": [],
   "source": [
    "Sales_data = pd.concat([Sales_data,Sales_categorical],axis=1)\n",
    "Sales_data.dropna(inplace=True)\n",
    "Sales_data.drop(['Days for shipping (real)'],axis=1,inplace=True)"
   ]
  },
  {
   "cell_type": "code",
   "execution_count": null,
   "id": "7f0bb26c",
   "metadata": {},
   "outputs": [],
   "source": [
    "Sales_data"
   ]
  },
  {
   "cell_type": "code",
   "execution_count": null,
   "id": "a5017a27",
   "metadata": {},
   "outputs": [],
   "source": [
    "plt.figure(figsize=(8,8))\n",
    "for i in Sales_numerical:\n",
    "  ax = sns.boxplot(data=Sales_numerical[i])\n",
    "  ax.set_xticklabels(ax.get_xticklabels(),rotation=90)\n",
    "  ax.set_xlabel(i)\n",
    "  plt.show()\n",
    "  if i=='Sales':\n",
    "    fig = ax.get_figure()\n",
    "    fig.savefig('Sales1.png')\n",
    "  print(\"\\n\")"
   ]
  },
  {
   "cell_type": "code",
   "execution_count": null,
   "id": "58f636e3",
   "metadata": {},
   "outputs": [],
   "source": [
    "Sales_data.isna().sum()"
   ]
  },
  {
   "cell_type": "code",
   "execution_count": null,
   "id": "dafb5fd1",
   "metadata": {},
   "outputs": [],
   "source": [
    "plt.figure(figsize=(8,8))\n",
    "\n",
    "ax = sns.boxplot(data=Sales_data['Sales'].values)\n",
    "ax.set_xticklabels(ax.get_xticklabels(),rotation=90)\n",
    "ax.set_xlabel('Sales')\n",
    "plt.show()\n",
    "fig = ax.get_figure()\n",
    "fig.savefig('Sales2.png')\n"
   ]
  },
  {
   "cell_type": "code",
   "execution_count": null,
   "id": "e10f6f8c",
   "metadata": {},
   "outputs": [],
   "source": [
    "#Feature Selection"
   ]
  },
  {
   "cell_type": "code",
   "execution_count": null,
   "id": "d69f97e9",
   "metadata": {},
   "outputs": [],
   "source": [
    "from sklearn.preprocessing import OrdinalEncoder\n",
    "from sklearn.preprocessing import LabelEncoder\n",
    "from sklearn.preprocessing import MinMaxScaler\n",
    "\n",
    "Sales_categorical2 = Sales_data.select_dtypes(['object']).drop(['Shipping Mode'],axis=1)\n",
    "Sales_numerical2 = Sales_data.select_dtypes(['int','float'])\n",
    "mn = MinMaxScaler()\n",
    "mn.fit(Sales_numerical2)\n",
    "Sales_numerical2 = pd.DataFrame(mn.transform(Sales_numerical2),columns = Sales_numerical2.columns)\n",
    "\n",
    "def Prepare_Categories(data):\n",
    "  ord = OrdinalEncoder()\n",
    "  ord.fit(data)\n",
    "  data_ = ord.transform(data)\n",
    "  return data_\n",
    "\n",
    "Sales_categorical3 =  pd.DataFrame(Prepare_Categories(Sales_categorical2),columns=Sales_categorical2.columns)\n",
    "# Sales_numerical2.drop(['Unnamed: 0'],axis=1,inplace=True)\n",
    "\n",
    "\n",
    "X_data = pd.concat([Sales_categorical3,Sales_numerical2],axis=1)\n",
    "\n",
    "\n",
    "Y_data = Sales_data[['Shipping Mode']]\n",
    "\n",
    "def Prepare_Target(y):\n",
    "  lb = LabelEncoder()\n",
    "  lb.fit(Y_data)\n",
    "  y_ = lb.transform(y)\n",
    "  return y_\n",
    "\n",
    "Y_data = Prepare_Target(Y_data).reshape(-1,1)\n",
    "Y_data"
   ]
  },
  {
   "cell_type": "code",
   "execution_count": null,
   "id": "752e0f73",
   "metadata": {},
   "outputs": [],
   "source": [
    "from sklearn.feature_selection import SelectKBest,f_classif,chi2\n",
    "fs = SelectKBest(score_func=chi2,k='all')"
   ]
  },
  {
   "cell_type": "code",
   "execution_count": null,
   "id": "a9448dee",
   "metadata": {},
   "outputs": [],
   "source": [
    "def Select_Features(x,y):\n",
    "  fs.fit(x,y)\n",
    "  x_ = fs.transform(x)\n",
    "  return fs\n",
    "\n",
    "score_ = Select_Features(X_data,Y_data)\n",
    "scores = pd.DataFrame(score_.scores_,index = X_data.columns,columns = ['score'])\n",
    "scores.sort_values(ascending=False,by=['score'])"
   ]
  },
  {
   "cell_type": "code",
   "execution_count": null,
   "id": "643ac077",
   "metadata": {},
   "outputs": [],
   "source": [
    "fs = SelectKBest(score_func=f_classif,k='all')\n",
    "def Select_Features(x,y):\n",
    "  fs.fit(x,y)\n",
    "  x_ = fs.transform(x)\n",
    "  return fs\n",
    "\n",
    "score_ = Select_Features(X_data,Y_data)\n",
    "scores = pd.DataFrame(score_.scores_,index = X_data.columns,columns = ['score'])\n",
    "scores.sort_values(ascending=False,by=['score'])"
   ]
  },
  {
   "cell_type": "markdown",
   "id": "b2a16798",
   "metadata": {},
   "source": [
    "# OverSampling"
   ]
  },
  {
   "cell_type": "code",
   "execution_count": null,
   "id": "d5376a48",
   "metadata": {},
   "outputs": [],
   "source": [
    "from imblearn.combine import SMOTETomek"
   ]
  },
  {
   "cell_type": "code",
   "execution_count": null,
   "id": "1e423156",
   "metadata": {},
   "outputs": [],
   "source": [
    "X_data_ = Sales_data.loc[:,Sales_data.columns!='Shipping Mode']\n",
    "\n",
    "Y_data_ = Sales_data[['Shipping Mode']]"
   ]
  },
  {
   "cell_type": "code",
   "execution_count": null,
   "id": "f124e784",
   "metadata": {},
   "outputs": [],
   "source": [
    "plt.figure(figsize=(5,5))\n",
    "plt.style.use('default')\n",
    "ax = sns.countplot(x='Shipping Mode',data=Y_data,palette='hsv_r')\n",
    "ax.set_xticklabels(ax.get_xticklabels(),rotation=90)\n",
    "plt.grid(False)\n",
    "plt.ylabel('count')\n",
    "plt.title('Shipping Mode \\n(Before Oversampling)')\n",
    "plt.show()\n",
    "fig = ax.get_figure()\n",
    "fig.savefig('count.png',bbox_inches=\"tight\")\n",
    "Y_data.value_counts(normalize=True)"
   ]
  },
  {
   "cell_type": "code",
   "execution_count": null,
   "id": "a74346b6",
   "metadata": {},
   "outputs": [],
   "source": [
    "Oversamppling is reqiuired for the minority class category"
   ]
  },
  {
   "cell_type": "code",
   "execution_count": null,
   "id": "96f270f4",
   "metadata": {},
   "outputs": [],
   "source": [
    "sm = SMOTETomek()\n",
    "\n",
    "X_data_new,Y_data_new = sm.fit_resample(X_data_,Y_data_)"
   ]
  },
  {
   "cell_type": "code",
   "execution_count": null,
   "id": "113d2542",
   "metadata": {},
   "outputs": [],
   "source": [
    "Sales_data1 = pd.DataFrame(X_data_new,columns=X_data_.columns)\n",
    "Sales_data1['Shipping Mode'] = Y_data_new\n",
    "Sales_data1.shape"
   ]
  },
  {
   "cell_type": "code",
   "execution_count": null,
   "id": "85dded61",
   "metadata": {},
   "outputs": [],
   "source": [
    "plt.figure(figsize=(5,5))\n",
    "plt.style.use('default')\n",
    "ax = sns.countplot(x='Shipping Mode',data=Sales_data1,palette='cividis')\n",
    "ax.set_xticklabels(ax.get_xticklabels(),rotation=90)\n",
    "plt.ylabel('count')\n",
    "plt.title('Shipping Mode \\n(After Oversampling)')\n",
    "plt.show()\n",
    "Sales_data1['Shipping Mode'].value_counts(normalize=True)"
   ]
  },
  {
   "cell_type": "code",
   "execution_count": null,
   "id": "fa52882b",
   "metadata": {},
   "outputs": [],
   "source": [
    "# Model Building  "
   ]
  },
  {
   "cell_type": "code",
   "execution_count": null,
   "id": "ca06597c",
   "metadata": {},
   "outputs": [],
   "source": [
    "### Random Forest Classifier"
   ]
  },
  {
   "cell_type": "code",
   "execution_count": null,
   "id": "03c0b925",
   "metadata": {},
   "outputs": [],
   "source": [
    "from sklearn.model_selection import train_test_split\n",
    "\n",
    "X_train,X_test,Y_train,Y_test = train_test_split(X_data_new,Y_data_new,random_state=100,test_size=0.15)"
   ]
  },
  {
   "cell_type": "code",
   "execution_count": null,
   "id": "bf7c9d92",
   "metadata": {},
   "outputs": [],
   "source": [
    "from sklearn.ensemble import RandomForestClassifier\n",
    "\n",
    "model1 = RandomForestClassifier()\n",
    "model1.fit(X_train,Y_train)\n",
    "Y_pred = model1.predict(X_test)"
   ]
  },
  {
   "cell_type": "code",
   "execution_count": null,
   "id": "6509ddc1",
   "metadata": {},
   "outputs": [],
   "source": [
    "from sklearn.metrics import accuracy_score\n",
    "\n",
    "print(f\"accuracy : {round(accuracy_score(Y_test,Y_pred),2)*100} %\")"
   ]
  },
  {
   "cell_type": "code",
   "execution_count": null,
   "id": "365fee30",
   "metadata": {},
   "outputs": [],
   "source": [
    "import pickle\n",
    "from sklearn.pipeline import Pipeline\n",
    "model_pipeline = Pipeline([\n",
    "                           ('model',model1)\n",
    "])\n",
    "pickle.dump(model_pipeline,open('supplymodel.pkl','wb'))\n",
    "pickle.dump(mn,open('scaler.pkl','wb'))\n",
    "# model_pipeline.predict(X_test[1].reshape(1,-1))"
   ]
  },
  {
   "cell_type": "code",
   "execution_count": null,
   "id": "0bd5a934",
   "metadata": {},
   "outputs": [],
   "source": [
    "from sklearn.metrics import confusion_matrix\n",
    "\n",
    "cm = confusion_matrix(Y_test,Y_pred)\n",
    "cm"
   ]
  },
  {
   "cell_type": "code",
   "execution_count": null,
   "id": "046e739b",
   "metadata": {},
   "outputs": [],
   "source": [
    "Cross Validation"
   ]
  },
  {
   "cell_type": "code",
   "execution_count": null,
   "id": "98008ab2",
   "metadata": {},
   "outputs": [],
   "source": [
    "from sklearn.model_selection import cross_val_score,KFold\n",
    "\n",
    "kfold = KFold(n_splits=10,random_state=42)\n",
    "\n",
    "score_ = cross_val_score(\n",
    "    estimator = model1,\n",
    "    X = X_train,\n",
    "    y = Y_train,\n",
    "    scoring = 'accuracy',\n",
    "    cv = kfold\n",
    ")"
   ]
  },
  {
   "cell_type": "code",
   "execution_count": null,
   "id": "8a23f26f",
   "metadata": {},
   "outputs": [],
   "source": [
    "Y_pred = model1.predict(X_test)\n",
    "print(f\"accuracy : {round(accuracy_score(Y_test,Y_pred),2)*100} %\")\n",
    "\n",
    "cm = confusion_matrix(Y_test,Y_pred)\n",
    "cm"
   ]
  },
  {
   "cell_type": "code",
   "execution_count": null,
   "id": "090e895d",
   "metadata": {},
   "outputs": [],
   "source": [
    "Hyper parameter Optimization"
   ]
  },
  {
   "cell_type": "code",
   "execution_count": null,
   "id": "a72abc22",
   "metadata": {},
   "outputs": [],
   "source": [
    "from sklearn.model_selection import GridSearchCV\n",
    "\n",
    "params = {\n",
    "    'n_estimators' : [i for i in range(1,501,100)],\n",
    "    'criterion' : ['gini','entropy'],\n",
    "    'max_depth' : [i for i in range(1,101,20)],\n",
    "    'max_features' : ['auto','sqrt','log2'],\n",
    "    'max_samples' : [i for i in range(16,33,16)]   \n",
    "}"
   ]
  },
  {
   "cell_type": "code",
   "execution_count": null,
   "id": "74c33cee",
   "metadata": {},
   "outputs": [],
   "source": [
    "clf = GridSearchCV(\n",
    "    estimator = model1,\n",
    "    param_grid = params,\n",
    "    scoring = 'accuracy',\n",
    "    cv = 10,\n",
    "    verbose=2\n",
    ")"
   ]
  },
  {
   "cell_type": "code",
   "execution_count": null,
   "id": "7d50da85",
   "metadata": {},
   "outputs": [],
   "source": [
    "clf.fit(X_train,Y_train)\n",
    "\n",
    "filename = 'suppychainmodel1.pkl'\n",
    "pickle.dump(clf,open(filename,'wb'))"
   ]
  },
  {
   "cell_type": "code",
   "execution_count": null,
   "id": "f743ba42",
   "metadata": {},
   "outputs": [],
   "source": [
    "Model2 (XgBoost Classifier)"
   ]
  },
  {
   "cell_type": "code",
   "execution_count": null,
   "id": "45bf5251",
   "metadata": {},
   "outputs": [],
   "source": [
    "from xgboost import XGBClassifier"
   ]
  },
  {
   "cell_type": "code",
   "execution_count": null,
   "id": "59475247",
   "metadata": {},
   "outputs": [],
   "source": [
    "model2 = XGBClassifier()\n",
    "model2.fit(X_train,Y_train)\n",
    "Y_pred = model2.predict(X_test)"
   ]
  },
  {
   "cell_type": "code",
   "execution_count": null,
   "id": "674ec94b",
   "metadata": {},
   "outputs": [],
   "source": [
    "from sklearn.metrics import accuracy_score\n",
    "\n",
    "print(f\"accuracy : {round(accuracy_score(Y_test,Y_pred),2)*100} %\")"
   ]
  },
  {
   "cell_type": "code",
   "execution_count": null,
   "id": "955aff6c",
   "metadata": {},
   "outputs": [],
   "source": [
    "from sklearn.metrics import fbeta_score\n",
    "\n",
    "score_ = fbeta_score(Y_test,Y_pred,beta=0.5,average='micro')\n",
    "print(f\"fbeta score : {score_}\")"
   ]
  },
  {
   "cell_type": "code",
   "execution_count": null,
   "id": "c52a88c5",
   "metadata": {},
   "outputs": [],
   "source": [
    "from sklearn.metrics import confusion_matrix\n",
    "\n",
    "cm = confusion_matrix(Y_test,Y_pred)\n",
    "cm"
   ]
  },
  {
   "cell_type": "code",
   "execution_count": null,
   "id": "f45b9e6d",
   "metadata": {},
   "outputs": [],
   "source": [
    "cross validation"
   ]
  },
  {
   "cell_type": "code",
   "execution_count": null,
   "id": "0c955c5c",
   "metadata": {},
   "outputs": [],
   "source": [
    "from sklearn.model_selection import cross_val_score,KFold\n",
    "\n",
    "kfold = KFold(n_splits=25,random_state=101)\n",
    "\n",
    "score_ = cross_val_score(\n",
    "    estimator = model2,\n",
    "    X = X_train,\n",
    "    y = Y_train,\n",
    "    scoring = 'accuracy',\n",
    "    cv = kfold,\n",
    "    verbose=4\n",
    ")\n"
   ]
  },
  {
   "cell_type": "code",
   "execution_count": null,
   "id": "78f0a857",
   "metadata": {},
   "outputs": [],
   "source": [
    "Y_pred = model2.predict(X_test)"
   ]
  },
  {
   "cell_type": "code",
   "execution_count": null,
   "id": "07fe7974",
   "metadata": {},
   "outputs": [],
   "source": [
    "from sklearn.metrics import accuracy_score\n",
    "\n",
    "print(f\"accuracy : {round(accuracy_score(Y_test,Y_pred),2)*100} %\")"
   ]
  },
  {
   "cell_type": "code",
   "execution_count": null,
   "id": "4c0b64bc",
   "metadata": {},
   "outputs": [],
   "source": [
    "from sklearn.metrics import fbeta_score\n",
    "\n",
    "score_ = fbeta_score(Y_test,Y_pred,beta=0.5,average='micro')\n",
    "print(f\"fbeta score : {score_}\")"
   ]
  },
  {
   "cell_type": "code",
   "execution_count": null,
   "id": "1bc43bf2",
   "metadata": {},
   "outputs": [],
   "source": [
    "import pickle\n",
    "\n",
    "filename = 'supplymodel_xgboost.pkl'\n",
    "\n",
    "pickle.dump(model2,open(filename,'wb'))"
   ]
  },
  {
   "cell_type": "code",
   "execution_count": null,
   "id": "3eab5585",
   "metadata": {},
   "outputs": [],
   "source": [
    "hyperparameter optimization"
   ]
  },
  {
   "cell_type": "code",
   "execution_count": null,
   "id": "b7ad641f",
   "metadata": {},
   "outputs": [],
   "source": [
    "from sklearn.model_selection import RandomizedSearchCV\n",
    "from scipy import stats"
   ]
  },
  {
   "cell_type": "code",
   "execution_count": null,
   "id": "d5e7dd94",
   "metadata": {},
   "outputs": [],
   "source": [
    "params = {'n_estimators': stats.randint(150, 1000),\n",
    "              'learning_rate': stats.uniform(0.01, 0.59),\n",
    "              'subsample': stats.uniform(0.3, 0.6),\n",
    "              'max_depth': [3, 4, 5, 6, 7, 8, 9],\n",
    "              'colsample_bytree': stats.uniform(0.5, 0.4),\n",
    "              'min_child_weight': [1, 2, 3, 4]\n",
    "             }"
   ]
  },
  {
   "cell_type": "code",
   "execution_count": null,
   "id": "8ec2de6e",
   "metadata": {},
   "outputs": [],
   "source": [
    "clf = RandomizedSearchCV(\n",
    "    model2,\n",
    "    params,\n",
    "    scoring='accuracy',\n",
    "    cv=300,\n",
    "    verbose=3\n",
    ")"
   ]
  },
  {
   "cell_type": "code",
   "execution_count": null,
   "id": "f9824da1",
   "metadata": {},
   "outputs": [],
   "source": []
  },
  {
   "cell_type": "code",
   "execution_count": null,
   "id": "0d396829",
   "metadata": {},
   "outputs": [],
   "source": []
  },
  {
   "cell_type": "code",
   "execution_count": null,
   "id": "03404597",
   "metadata": {},
   "outputs": [],
   "source": []
  },
  {
   "cell_type": "code",
   "execution_count": null,
   "id": "21725171",
   "metadata": {},
   "outputs": [],
   "source": []
  },
  {
   "cell_type": "code",
   "execution_count": null,
   "id": "f0caaa17",
   "metadata": {},
   "outputs": [],
   "source": []
  },
  {
   "cell_type": "code",
   "execution_count": null,
   "id": "408fa602",
   "metadata": {},
   "outputs": [],
   "source": []
  }
 ],
 "metadata": {
  "kernelspec": {
   "display_name": "Python 3 (ipykernel)",
   "language": "python",
   "name": "python3"
  },
  "language_info": {
   "codemirror_mode": {
    "name": "ipython",
    "version": 3
   },
   "file_extension": ".py",
   "mimetype": "text/x-python",
   "name": "python",
   "nbconvert_exporter": "python",
   "pygments_lexer": "ipython3",
   "version": "3.9.7"
  }
 },
 "nbformat": 4,
 "nbformat_minor": 5
}
